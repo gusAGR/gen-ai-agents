{
 "cells": [
  {
   "metadata": {},
   "cell_type": "markdown",
   "source": [
    "# Intro to langraph\n",
    "\n",
    "Simple \"agent\" to figure out how to build a graph"
   ],
   "id": "65b62a1b712c60f0"
  },
  {
   "metadata": {
    "collapsed": true,
    "ExecuteTime": {
     "end_time": "2025-10-16T09:12:03.505356Z",
     "start_time": "2025-10-16T09:12:03.498724Z"
    }
   },
   "cell_type": "code",
   "source": [
    "from dotenv import load_dotenv\n",
    "from typing import List, TypedDict\n",
    "from langgraph.graph import StateGraph, START, END"
   ],
   "id": "d2d6f28ace8dd98e",
   "outputs": [],
   "execution_count": 13
  },
  {
   "metadata": {
    "ExecuteTime": {
     "end_time": "2025-10-16T09:12:03.525995Z",
     "start_time": "2025-10-16T09:12:03.519795Z"
    }
   },
   "cell_type": "code",
   "source": "load_dotenv()",
   "id": "83a6f4e03a1f0a62",
   "outputs": [
    {
     "data": {
      "text/plain": [
       "True"
      ]
     },
     "execution_count": 14,
     "metadata": {},
     "output_type": "execute_result"
    }
   ],
   "execution_count": 14
  },
  {
   "metadata": {
    "ExecuteTime": {
     "end_time": "2025-10-16T09:12:03.539051Z",
     "start_time": "2025-10-16T09:12:03.525995Z"
    }
   },
   "cell_type": "code",
   "source": [
    "class State(TypedDict):\n",
    "    graph_state: str"
   ],
   "id": "a57a1ba6d472dbde",
   "outputs": [],
   "execution_count": 15
  },
  {
   "metadata": {
    "ExecuteTime": {
     "end_time": "2025-10-16T09:12:03.550666Z",
     "start_time": "2025-10-16T09:12:03.545869Z"
    }
   },
   "cell_type": "code",
   "source": [
    "#Define the functions\n",
    "def node_1(state: State):\n",
    "    return {\"graph_state\": state['graph_state'] + \" Updated once.\"}\n",
    "\n",
    "\n",
    "def node_2(state: State):\n",
    "    return {\"graph_state\": state['graph_state'] + \" Updated twice.\"}\n",
    "\n",
    "\n",
    "def node_3(state: State):\n",
    "    return {\"graph_state\": state['graph_state'] + \" Updated 3 times.\"}"
   ],
   "id": "f98b7cfde4bff123",
   "outputs": [],
   "execution_count": 16
  },
  {
   "metadata": {
    "ExecuteTime": {
     "end_time": "2025-10-16T09:12:03.560945Z",
     "start_time": "2025-10-16T09:12:03.555599Z"
    }
   },
   "cell_type": "code",
   "source": [
    "builder = StateGraph(State)\n",
    "\n",
    "builder.add_node(node_1)\n",
    "builder.add_node(node_2)\n",
    "builder.add_node(node_3)\n",
    "\n",
    "builder.add_edge(START, \"node_1\")\n",
    "builder.add_edge(\"node_1\", \"node_2\")\n",
    "builder.add_edge(\"node_2\", \"node_3\")\n",
    "builder.add_edge(\"node_3\", END)\n",
    "\n",
    "graph = builder.compile()"
   ],
   "id": "5b7c2da385d92b75",
   "outputs": [],
   "execution_count": 17
  },
  {
   "metadata": {
    "ExecuteTime": {
     "end_time": "2025-10-16T09:12:03.581871Z",
     "start_time": "2025-10-16T09:12:03.565434Z"
    }
   },
   "cell_type": "code",
   "source": "graph.get_graph().print_ascii()",
   "id": "b78fd0106565880c",
   "outputs": [
    {
     "name": "stdout",
     "output_type": "stream",
     "text": [
      "+-----------+  \r\n",
      "| __start__ |  \r\n",
      "+-----------+  \r\n",
      "      *        \r\n",
      "      *        \r\n",
      "      *        \r\n",
      "  +--------+   \r\n",
      "  | node_1 |   \r\n",
      "  +--------+   \r\n",
      "      *        \r\n",
      "      *        \r\n",
      "      *        \r\n",
      "  +--------+   \r\n",
      "  | node_2 |   \r\n",
      "  +--------+   \r\n",
      "      *        \r\n",
      "      *        \r\n",
      "      *        \r\n",
      "  +--------+   \r\n",
      "  | node_3 |   \r\n",
      "  +--------+   \r\n",
      "      *        \r\n",
      "      *        \r\n",
      "      *        \r\n",
      " +---------+   \r\n",
      " | __end__ |   \r\n",
      " +---------+   \n"
     ]
    }
   ],
   "execution_count": 18
  },
  {
   "metadata": {
    "ExecuteTime": {
     "end_time": "2025-10-16T09:12:03.615471Z",
     "start_time": "2025-10-16T09:12:03.608473Z"
    }
   },
   "cell_type": "code",
   "source": [
    "state = {\"graph_state\": \"\"}\n",
    "\n",
    "graph.invoke(state)"
   ],
   "id": "2e391377b00bffe1",
   "outputs": [
    {
     "data": {
      "text/plain": [
       "{'graph_state': ' Updated once. Updated twice. Updated 3 times.'}"
      ]
     },
     "execution_count": 19,
     "metadata": {},
     "output_type": "execute_result"
    }
   ],
   "execution_count": 19
  },
  {
   "metadata": {
    "ExecuteTime": {
     "end_time": "2025-10-16T09:12:03.632118Z",
     "start_time": "2025-10-16T09:12:03.626132Z"
    }
   },
   "cell_type": "code",
   "source": [
    "state = {\"graph_state\": \"Howdy!\"}\n",
    "\n",
    "graph.invoke(state)"
   ],
   "id": "64962035d1564fc9",
   "outputs": [
    {
     "data": {
      "text/plain": [
       "{'graph_state': 'Howdy! Updated once. Updated twice. Updated 3 times.'}"
      ]
     },
     "execution_count": 20,
     "metadata": {},
     "output_type": "execute_result"
    }
   ],
   "execution_count": 20
  }
 ],
 "metadata": {
  "kernelspec": {
   "display_name": "Python 3",
   "language": "python",
   "name": "python3"
  },
  "language_info": {
   "codemirror_mode": {
    "name": "ipython",
    "version": 2
   },
   "file_extension": ".py",
   "mimetype": "text/x-python",
   "name": "python",
   "nbconvert_exporter": "python",
   "pygments_lexer": "ipython2",
   "version": "2.7.6"
  }
 },
 "nbformat": 4,
 "nbformat_minor": 5
}
