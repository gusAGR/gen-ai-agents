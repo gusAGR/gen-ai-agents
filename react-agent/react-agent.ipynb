{
 "cells": [
  {
   "metadata": {},
   "cell_type": "markdown",
   "source": [
    "# ReAct agent\n",
    "https://python.langchain.com/docs/tutorials/agents/"
   ],
   "id": "fc7896fb30b3be51"
  },
  {
   "metadata": {
    "ExecuteTime": {
     "end_time": "2025-10-09T07:09:43.448117Z",
     "start_time": "2025-10-09T07:09:43.444436Z"
    }
   },
   "cell_type": "code",
   "source": "#%pip install -q langgraph langchain-tavily langgraph-checkpoint-sqlite",
   "id": "5cfa2c94963295b6",
   "outputs": [],
   "execution_count": 2
  },
  {
   "metadata": {
    "collapsed": true,
    "ExecuteTime": {
     "end_time": "2025-10-09T08:14:32.994170Z",
     "start_time": "2025-10-09T08:14:32.897361Z"
    }
   },
   "cell_type": "code",
   "source": [
    "from dotenv import load_dotenv\n",
    "from langchain_huggingface import HuggingFaceEndpoint, ChatHuggingFace\n",
    "from langchain_tavily import TavilySearch\n",
    "from langgraph.checkpoint.memory import MemorySaver\n",
    "from langgraph.prebuilt import create_react_agent\n"
   ],
   "id": "3410cbdd4f995381",
   "outputs": [],
   "execution_count": 3
  },
  {
   "metadata": {
    "ExecuteTime": {
     "end_time": "2025-10-09T08:14:34.082428Z",
     "start_time": "2025-10-09T08:14:34.069823Z"
    }
   },
   "cell_type": "code",
   "source": "load_dotenv()",
   "id": "7eeca5b4e7894387",
   "outputs": [
    {
     "data": {
      "text/plain": [
       "True"
      ]
     },
     "execution_count": 4,
     "metadata": {},
     "output_type": "execute_result"
    }
   ],
   "execution_count": 4
  },
  {
   "metadata": {},
   "cell_type": "markdown",
   "source": "Tavily tool definition",
   "id": "45155feb78220e25"
  },
  {
   "metadata": {},
   "cell_type": "code",
   "source": [
    "tavily_search = TavilySearch(max_results=2)\n",
    "\n",
    "search_results = tavily_search.invoke(\"What is the temperature in Madrid now\")\n",
    "print(search_results)"
   ],
   "id": "c7e075b643c4ea9a",
   "outputs": [],
   "execution_count": null
  },
  {
   "metadata": {},
   "cell_type": "markdown",
   "source": "hugging face llm: https://python.langchain.com/docs/integrations/chat/huggingface/\n",
   "id": "8feba21b3ed11ccd"
  },
  {
   "metadata": {},
   "cell_type": "code",
   "source": [
    "llm = HuggingFaceEndpoint(\n",
    "    repo_id=\"deepseek-ai/DeepSeek-V3.1\",\n",
    "    task=\"text-generation\",\n",
    "    max_new_tokens=512,\n",
    "    do_sample=False,\n",
    "    repetition_penalty=1.03,\n",
    "    provider=\"auto\",  # let Hugging Face choose the best provider for you\n",
    ")\n",
    "\n",
    "model = ChatHuggingFace(llm=llm)\n",
    "tools = [tavily_search]\n",
    "chat_with_tools = model.bind_tools(tools)"
   ],
   "id": "80b11b5f5d397bc9",
   "outputs": [],
   "execution_count": null
  },
  {
   "metadata": {
    "ExecuteTime": {
     "end_time": "2025-10-09T07:09:49.963085Z",
     "start_time": "2025-10-09T07:09:48.453097Z"
    }
   },
   "cell_type": "code",
   "source": [
    "user_prompt = \"How is the weather today in SF?\"\n",
    "response = chat_with_tools.invoke([{\"role\": \"user\", \"content\": user_prompt}])\n",
    "print(response)"
   ],
   "id": "88edae76c4fd410a",
   "outputs": [
    {
     "name": "stdout",
     "output_type": "stream",
     "text": [
      "content=\"I'll check the current weather conditions in San Francisco for you.\" additional_kwargs={'tool_calls': [{'function': {'arguments': '{\"query\": \"San Francisco weather today current conditions\", \"search_depth\": \"basic\", \"time_range\": \"day\"}', 'name': 'tavily_search', 'description': None}, 'id': 'call_0tmX09Llvbkjt1dL43p5IaH1', 'type': 'function'}]} response_metadata={'token_usage': {'completion_tokens': 48, 'prompt_tokens': 1792, 'total_tokens': 1840}, 'model_name': 'deepseek-ai/DeepSeek-V3.1', 'system_fingerprint': None, 'finish_reason': 'tool_calls', 'logprobs': None} id='run--c5d8d13c-fbd3-4138-b6ef-d4e7c74c8882-0' tool_calls=[{'name': 'tavily_search', 'args': {'query': 'San Francisco weather today current conditions', 'search_depth': 'basic', 'time_range': 'day'}, 'id': 'call_0tmX09Llvbkjt1dL43p5IaH1', 'type': 'tool_call'}] usage_metadata={'input_tokens': 1792, 'output_tokens': 48, 'total_tokens': 1840}\n"
     ]
    }
   ],
   "execution_count": 8
  },
  {
   "metadata": {
    "ExecuteTime": {
     "end_time": "2025-10-09T07:09:49.979976Z",
     "start_time": "2025-10-09T07:09:49.974381Z"
    }
   },
   "cell_type": "code",
   "source": "response.pretty_print()",
   "id": "86dba2f918935ef0",
   "outputs": [
    {
     "name": "stdout",
     "output_type": "stream",
     "text": [
      "==================================\u001B[1m Ai Message \u001B[0m==================================\n",
      "\n",
      "I'll check the current weather conditions in San Francisco for you.\n",
      "Tool Calls:\n",
      "  tavily_search (call_0tmX09Llvbkjt1dL43p5IaH1)\n",
      " Call ID: call_0tmX09Llvbkjt1dL43p5IaH1\n",
      "  Args:\n",
      "    query: San Francisco weather today current conditions\n",
      "    search_depth: basic\n",
      "    time_range: day\n"
     ]
    }
   ],
   "execution_count": 9
  },
  {
   "metadata": {
    "ExecuteTime": {
     "end_time": "2025-10-09T07:09:50.006332Z",
     "start_time": "2025-10-09T07:09:50.001323Z"
    }
   },
   "cell_type": "code",
   "source": [
    "print(f\"Message content: {response.text()}\\n\")\n",
    "print(f\"Tool calls: {response.tool_calls}\\n\")"
   ],
   "id": "55dbe4526a6aafc7",
   "outputs": [
    {
     "name": "stdout",
     "output_type": "stream",
     "text": [
      "Message content: I'll check the current weather conditions in San Francisco for you.\n",
      "\n",
      "Tool calls: [{'name': 'tavily_search', 'args': {'query': 'San Francisco weather today current conditions', 'search_depth': 'basic', 'time_range': 'day'}, 'id': 'call_0tmX09Llvbkjt1dL43p5IaH1', 'type': 'tool_call'}]\n",
      "\n"
     ]
    }
   ],
   "execution_count": 10
  },
  {
   "metadata": {},
   "cell_type": "markdown",
   "source": "ReAct agent implementation following https://python.langchain.com/docs/tutorials/agents/",
   "id": "77051b377bb2a9ef"
  },
  {
   "metadata": {
    "ExecuteTime": {
     "end_time": "2025-10-09T07:09:50.038937Z",
     "start_time": "2025-10-09T07:09:50.018857Z"
    }
   },
   "cell_type": "code",
   "source": "agent_executor = create_react_agent(model, tools, prompt=\"You are a helpful assistant\")",
   "id": "1f0256066752a5ce",
   "outputs": [],
   "execution_count": 11
  },
  {
   "metadata": {
    "ExecuteTime": {
     "end_time": "2025-10-09T07:09:59.421783Z",
     "start_time": "2025-10-09T07:09:50.048343Z"
    }
   },
   "cell_type": "code",
   "source": [
    "input_message = {\"role\": \"user\", \"content\": \"How is the weather today in SF?\"}\n",
    "response = agent_executor.invoke({\"messages\": [input_message]})\n",
    "\n",
    "for message in response[\"messages\"]:\n",
    "    message.pretty_print()"
   ],
   "id": "1719fe649fae7f66",
   "outputs": [
    {
     "name": "stdout",
     "output_type": "stream",
     "text": [
      "================================\u001B[1m Human Message \u001B[0m=================================\n",
      "\n",
      "How is the weather today in SF?!\n",
      "==================================\u001B[1m Ai Message \u001B[0m==================================\n",
      "\n",
      "I'll search for the current weather in San Francisco to get you the latest information.\n",
      "Tool Calls:\n",
      "  tavily_search (call_tVp0a6YSz4HyP4U5Ku3oMIrE)\n",
      " Call ID: call_tVp0a6YSz4HyP4U5Ku3oMIrE\n",
      "  Args:\n",
      "    query: current weather today San Francisco SF\n",
      "    time_range: day\n",
      "=================================\u001B[1m Tool Message \u001B[0m=================================\n",
      "Name: tavily_search\n",
      "\n",
      "{\"query\": \"current weather today San Francisco SF\", \"follow_up_questions\": null, \"answer\": null, \"images\": [], \"results\": [{\"title\": \"Weather in San Francisco, SF\", \"url\": \"https://www.weatherapi.com/\", \"content\": \"{'location': {'name': 'Colonia San Francisco (San Francisco)', 'region': 'Zacatecas', 'country': 'Mexico', 'lat': 22.3036, 'lon': -101.8206, 'tz_id': 'America/Mexico_City', 'localtime_epoch': 1759994025, 'localtime': '2025-10-09 01:13'}, 'current': {'last_updated_epoch': 1759993200, 'last_updated': '2025-10-09 01:00', 'temp_c': 14.6, 'temp_f': 58.3, 'is_day': 0, 'condition': {'text': 'Cloudy', 'icon': '//cdn.weatherapi.com/weather/64x64/night/119.png', 'code': 1006}, 'wind_mph': 15.9, 'wind_kph': 25.6, 'wind_degree': 89, 'wind_dir': 'E', 'pressure_mb': 1017.0, 'pressure_in': 30.02, 'precip_mm': 0.0, 'precip_in': 0.0, 'humidity': 89, 'cloud': 85, 'feelslike_c': 12.9, 'feelslike_f': 55.3, 'windchill_c': 12.9, 'windchill_f': 55.3, 'heatindex_c': 14.6, 'heatindex_f': 58.3, 'dewpoint_c': 12.9, 'dewpoint_f': 55.1, 'vis_km': 10.0, 'vis_miles': 6.0, 'uv': 0.0, 'gust_mph': 22.5, 'gust_kph': 36.2}}\", \"score\": 0.3333165, \"raw_content\": null}, {\"url\": \"https://es.flightaware.com/live/flight/DAL2267\", \"title\": \"DL2267 (DAL2267) Delta Air Lines Historial y rastreo de vuelos\", \"content\": \"viernes 10-10-2025. 03:30PM PDT Int'l de San Francisco - SFO ; viernes 10-10-2025. 01:12PM PDT Int'l de Los Ángeles - LAX ; jueves 09-10-2025. 03:30PM PDT Int'l\", \"score\": 0.30981717, \"raw_content\": null}], \"response_time\": 1.38, \"request_id\": \"8ace640c-6c82-4c8c-b917-9fcb158fb109\"}\n",
      "==================================\u001B[1m Ai Message \u001B[0m==================================\n",
      "\n",
      "I notice that the search result returned weather data for \"Colonia San Francisco\" in Mexico, not San Francisco, California (SF). Let me search again with a more specific query.\n",
      "Tool Calls:\n",
      "  tavily_search (call_UHZwPwkpoWeHaUTD9d1S8RT7)\n",
      " Call ID: call_UHZwPwkpoWeHaUTD9d1S8RT7\n",
      "  Args:\n",
      "    query: weather today San Francisco California\n",
      "    time_range: day\n",
      "=================================\u001B[1m Tool Message \u001B[0m=================================\n",
      "Name: tavily_search\n",
      "\n",
      "{\"query\": \"weather today San Francisco California\", \"follow_up_questions\": null, \"answer\": null, \"images\": [], \"results\": [{\"title\": \"Weather in San Francisco, California\", \"url\": \"https://www.weatherapi.com/\", \"content\": \"{'location': {'name': 'San Francisco', 'region': 'California', 'country': 'United States of America', 'lat': 37.775, 'lon': -122.4183, 'tz_id': 'America/Los_Angeles', 'localtime_epoch': 1759993817, 'localtime': '2025-10-09 00:10'}, 'current': {'last_updated_epoch': 1759993200, 'last_updated': '2025-10-09 00:00', 'temp_c': 18.3, 'temp_f': 64.9, 'is_day': 0, 'condition': {'text': 'Partly cloudy', 'icon': '//cdn.weatherapi.com/weather/64x64/night/116.png', 'code': 1003}, 'wind_mph': 8.3, 'wind_kph': 13.3, 'wind_degree': 200, 'wind_dir': 'SSW', 'pressure_mb': 1012.0, 'pressure_in': 29.87, 'precip_mm': 0.0, 'precip_in': 0.0, 'humidity': 76, 'cloud': 50, 'feelslike_c': 18.3, 'feelslike_f': 64.9, 'windchill_c': 15.0, 'windchill_f': 59.1, 'heatindex_c': 15.1, 'heatindex_f': 59.3, 'dewpoint_c': 13.7, 'dewpoint_f': 56.7, 'vis_km': 16.0, 'vis_miles': 9.0, 'uv': 0.0, 'gust_mph': 12.5, 'gust_kph': 20.1}}\", \"score\": 0.9385556, \"raw_content\": null}, {\"url\": \"https://www.tide-forecast.com/tide/San-Francisco-California/tide-times\", \"title\": \"Tide Times and Tide Chart for San Francisco\", \"content\": \"The predicted tide times today on Wednesday 08 October 2025 for San Francisco are: first high tide at 1:03am, first low tide at 6:17am, second high tide at 12:\", \"score\": 0.89997756, \"raw_content\": null}], \"response_time\": 1.73, \"request_id\": \"22d3d3c5-215f-45b9-abbe-70f31ccdf684\"}\n",
      "==================================\u001B[1m Ai Message \u001B[0m==================================\n",
      "\n",
      "I found the current weather for San Francisco, California! As of the latest update (around 00:00 local time on October 9, 2025), the weather is:\n",
      "\n",
      "- **Temperature**: 64.9°F (18.3°C)\n",
      "- **Condition**: Partly cloudy\n",
      "- **Wind**: 8.3 mph from the SSW\n",
      "- **Humidity**: 76%\n",
      "\n",
      "Please note that this is the weather at the time of the last update (midnight). For the most current conditions or daytime forecast, you might want to check a local weather service or app, as weather can change throughout the day!\n"
     ]
    }
   ],
   "execution_count": 12
  },
  {
   "metadata": {},
   "cell_type": "markdown",
   "source": "Adding memory to enable multiturn conversations",
   "id": "822fb28fc3be32af"
  },
  {
   "metadata": {
    "ExecuteTime": {
     "end_time": "2025-10-09T07:09:59.455686Z",
     "start_time": "2025-10-09T07:09:59.429903Z"
    }
   },
   "cell_type": "code",
   "source": [
    "memory = MemorySaver()\n",
    "\n",
    "agent_executor = create_react_agent(model, tools, checkpointer=memory)"
   ],
   "id": "47e52b62b59c8374",
   "outputs": [],
   "execution_count": 13
  },
  {
   "metadata": {
    "ExecuteTime": {
     "end_time": "2025-10-09T07:15:46.817833Z",
     "start_time": "2025-10-09T07:15:45.609681Z"
    }
   },
   "cell_type": "code",
   "source": [
    "config = {\"configurable\": {\"thread_id\": \"abc123\"}}\n",
    "response = agent_executor.invoke({\"messages\": [(\"user\", \"Hi, I'm Bob!\")]}, config)\n",
    "\n",
    "print(response[\"messages\"][-1].pretty_print())"
   ],
   "id": "d5c5958f259defab",
   "outputs": [
    {
     "name": "stdout",
     "output_type": "stream",
     "text": [
      "==================================\u001B[1m Ai Message \u001B[0m==================================\n",
      "\n",
      "Hi Bob! It's nice to meet you (again!). \n",
      "\n",
      "I'm here and ready to help you with whatever you need - whether it's searching for information, answering questions, or anything else I can assist with. What would you like to do today?\n",
      "None\n"
     ]
    }
   ],
   "execution_count": 20
  },
  {
   "metadata": {
    "ExecuteTime": {
     "end_time": "2025-10-09T07:19:16.243456Z",
     "start_time": "2025-10-09T07:19:15.296867Z"
    }
   },
   "cell_type": "code",
   "source": [
    "for step in agent_executor.stream({\"messages\": [(\"user\", \"What is my name?\")]}, config, stream_mode=\"values\"):\n",
    "    step[\"messages\"][-1].pretty_print()\n"
   ],
   "id": "4f1160d48f6d5ee5",
   "outputs": [
    {
     "name": "stdout",
     "output_type": "stream",
     "text": [
      "================================\u001B[1m Human Message \u001B[0m=================================\n",
      "\n",
      "What is my name?\n",
      "==================================\u001B[1m Ai Message \u001B[0m==================================\n",
      "\n",
      "Your name is Bob! You've introduced yourself as Bob multiple times in this conversation.\n"
     ]
    }
   ],
   "execution_count": 24
  },
  {
   "metadata": {},
   "cell_type": "markdown",
   "source": [
    "# React agent with custom tools\n",
    "React agent example that sends  Christmas greetings to customers and notify to a fake slack user using custom tools"
   ],
   "id": "752cd0778de6bb83"
  },
  {
   "metadata": {
    "ExecuteTime": {
     "end_time": "2025-10-09T09:39:25.247509Z",
     "start_time": "2025-10-09T09:39:25.240963Z"
    }
   },
   "cell_type": "code",
   "source": [
    "from langchain_core.tools import tool\n",
    "from langchain.chat_models import init_chat_model\n",
    "from langgraph.checkpoint.memory import MemorySaver"
   ],
   "id": "374592fa0f18b558",
   "outputs": [],
   "execution_count": 11
  },
  {
   "metadata": {
    "ExecuteTime": {
     "end_time": "2025-10-09T09:39:26.737638Z",
     "start_time": "2025-10-09T09:39:26.727344Z"
    }
   },
   "cell_type": "code",
   "source": [
    "@tool\n",
    "def send_email(email_address: str, message: str):\n",
    "    \"\"\"Send an email to an email address.\"\"\"\n",
    "    return \"email sent to \" + email_address + \": \" + message\n",
    "\n",
    "\n",
    "@tool\n",
    "def slack_integration(slack_user_id: str, message: str):\n",
    "    \"\"\"Send an Slack message to an Slack user.\"\"\"\n",
    "    return f\"\"\"{slack_user_id}!!:{message}\"\"\""
   ],
   "id": "8f4b89f5e83959f3",
   "outputs": [],
   "execution_count": 12
  },
  {
   "metadata": {},
   "cell_type": "markdown",
   "source": "Instantiating the agent",
   "id": "75f1be06e58e6468"
  },
  {
   "metadata": {
    "ExecuteTime": {
     "end_time": "2025-10-09T09:39:40.056333Z",
     "start_time": "2025-10-09T09:39:38.911314Z"
    }
   },
   "cell_type": "code",
   "source": [
    "system_prompt = \"\"\"\n",
    "You are a helpful agent. Your tasks is to send Christmas cards to our clients using the provided email addresses. Using kind and formal language. The message should not be longer that 15 words.\n",
    "\n",
    "Send a slack message to @myslackuser and inform the result of sending the email. Include a final summary with the operations you did.\n",
    "\"\"\"\n",
    "\n",
    "model = init_chat_model(\"command-r7b-12-2024\", model_provider=\"cohere\")\n",
    "tools = [send_email, slack_integration]\n",
    "memory = MemorySaver()\n",
    "\n",
    "agent_executor = create_react_agent(model, tools, checkpointer=memory, prompt=system_prompt)"
   ],
   "id": "6e519936678223ec",
   "outputs": [],
   "execution_count": 13
  },
  {
   "metadata": {
    "ExecuteTime": {
     "end_time": "2025-10-09T09:39:47.662956Z",
     "start_time": "2025-10-09T09:39:47.657522Z"
    }
   },
   "cell_type": "code",
   "source": [
    "# dummy thread to save conversation on memory\n",
    "config = {\"configurable\": {\"thread_id\": \"xyz123\"}}"
   ],
   "id": "b64c8455f0a90530",
   "outputs": [],
   "execution_count": 14
  },
  {
   "metadata": {
    "ExecuteTime": {
     "end_time": "2025-10-09T09:39:56.525948Z",
     "start_time": "2025-10-09T09:39:52.052034Z"
    }
   },
   "cell_type": "code",
   "source": [
    "for step in agent_executor.stream(\n",
    "        {\"messages\": [(\"user\", \"Send a Chistmas card to foo@example.com and notme@example.com?\")]},\n",
    "        config,\n",
    "        stream_mode=\"values\"\n",
    "):\n",
    "    step[\"messages\"][-1].pretty_print()"
   ],
   "id": "eb9fadc36e3df15e",
   "outputs": [
    {
     "name": "stdout",
     "output_type": "stream",
     "text": [
      "================================\u001B[1m Human Message \u001B[0m=================================\n",
      "\n",
      "Send a Chistmas card to foo@example.com and notme@example.com?\n",
      "==================================\u001B[1m Ai Message \u001B[0m==================================\n",
      "\n",
      "I will use the send_email tool to send a Christmas card to foo@example.com and notme@example.com. I will then use the slack_integration tool to inform @myslackuser of the result of sending the email.\n",
      "Tool Calls:\n",
      "  send_email (send_email_5dbs3b1bcgbc)\n",
      " Call ID: send_email_5dbs3b1bcgbc\n",
      "  Args:\n",
      "    email_address: foo@example.com\n",
      "    message: Wishing you a Merry Christmas\n",
      "  send_email (send_email_k7j5dsh6peb8)\n",
      " Call ID: send_email_k7j5dsh6peb8\n",
      "  Args:\n",
      "    email_address: notme@example.com\n",
      "    message: Wishing you a Merry Christmas\n",
      "  slack_integration (slack_integration_m9rzym4ss8pw)\n",
      " Call ID: slack_integration_m9rzym4ss8pw\n",
      "  Args:\n",
      "    slack_user_id: myslackuser\n",
      "    message: Email sent to foo@example.com and notme@example.com\n",
      "=================================\u001B[1m Tool Message \u001B[0m=================================\n",
      "Name: slack_integration\n",
      "\n",
      "myslackuser!!:Email sent to foo@example.com and notme@example.com\n",
      "==================================\u001B[1m Ai Message \u001B[0m==================================\n",
      "\n",
      "I have sent Christmas cards to foo@example.com and notme@example.com.\n"
     ]
    }
   ],
   "execution_count": 15
  }
 ],
 "metadata": {
  "kernelspec": {
   "display_name": "Python 3",
   "language": "python",
   "name": "python3"
  },
  "language_info": {
   "codemirror_mode": {
    "name": "ipython",
    "version": 2
   },
   "file_extension": ".py",
   "mimetype": "text/x-python",
   "name": "python",
   "nbconvert_exporter": "python",
   "pygments_lexer": "ipython2",
   "version": "2.7.6"
  }
 },
 "nbformat": 4,
 "nbformat_minor": 5
}
