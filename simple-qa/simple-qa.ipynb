{
 "cells": [
  {
   "metadata": {},
   "cell_type": "markdown",
   "source": [
    "# Simple langchain questioning answer application\n",
    "\n",
    "Simple agent that  answer user questions"
   ],
   "id": "fc7896fb30b3be51"
  },
  {
   "metadata": {
    "collapsed": true,
    "ExecuteTime": {
     "end_time": "2025-10-08T08:24:18.450336Z",
     "start_time": "2025-10-08T08:24:18.446323Z"
    }
   },
   "cell_type": "code",
   "source": [
    "from langchain.chat_models import init_chat_model\n",
    "from langchain_core.prompts import ChatPromptTemplate\n",
    "from dotenv import load_dotenv"
   ],
   "id": "c05f24d9bb633e37",
   "outputs": [],
   "execution_count": 45
  },
  {
   "metadata": {
    "ExecuteTime": {
     "end_time": "2025-10-08T08:24:20.170611Z",
     "start_time": "2025-10-08T08:24:20.164871Z"
    }
   },
   "cell_type": "code",
   "source": "load_dotenv()",
   "id": "7eeca5b4e7894387",
   "outputs": [
    {
     "data": {
      "text/plain": [
       "True"
      ]
     },
     "execution_count": 46,
     "metadata": {},
     "output_type": "execute_result"
    }
   ],
   "execution_count": 46
  },
  {
   "metadata": {
    "ExecuteTime": {
     "end_time": "2025-10-08T08:24:28.113159Z",
     "start_time": "2025-10-08T08:24:26.952918Z"
    }
   },
   "cell_type": "code",
   "source": "model = init_chat_model(\"command-r7b-12-2024\", model_provider=\"cohere\")",
   "id": "80b11b5f5d397bc9",
   "outputs": [],
   "execution_count": 47
  },
  {
   "metadata": {
    "ExecuteTime": {
     "end_time": "2025-10-08T08:24:51.372059Z",
     "start_time": "2025-10-08T08:24:51.367050Z"
    }
   },
   "cell_type": "code",
   "source": [
    "system_template = \"You are a helpful assistant. Reply in 50 words or less to the following question.\"\n",
    "prompt_template = ChatPromptTemplate.from_messages([(\"system\", system_template), (\"user\", \"{question}\")])"
   ],
   "id": "215bff071bd7978",
   "outputs": [],
   "execution_count": 49
  },
  {
   "metadata": {
    "ExecuteTime": {
     "end_time": "2025-10-08T08:25:22.043166Z",
     "start_time": "2025-10-08T08:25:10.994953Z"
    }
   },
   "cell_type": "code",
   "source": [
    "user_message = \"What are the top 3 visited places in Madrid?\"\n",
    "prompt = prompt_template.format_messages(question=user_message)\n",
    "\n",
    "response = model.invoke(prompt)\n",
    "print(response.content)"
   ],
   "id": "1bf5b2f8c31eb636",
   "outputs": [
    {
     "name": "stdout",
     "output_type": "stream",
     "text": [
      "The top three visited places in Madrid, Spain, are:\n",
      "\n",
      "1. **Plaza Mayor**: This vibrant square is the heart of Madrid, known for its lively atmosphere, street performers, and a variety of restaurants and bars. It's a great place to start exploring the city and experience Madrid's vibrant culture.\n",
      "\n",
      "2. **Prado Museum**: One of the most famous art museums in the world, the Prado is a must-visit for art enthusiasts. It houses an extensive collection of European art, including works by Velázquez, Goya, El Greco, and many more. The museum is housed in a stunning building that was once the royal palace.\n",
      "\n",
      "3. **Royal Palace of Madrid**: The official residence of the Spanish Royal Family, this palace is a symbol of Madrid's rich history and architectural grandeur. Visitors can tour the lavish rooms and gardens, offering a glimpse into the lives of the Spanish monarchy. The palace is known for its beautiful interior design, stunning frescoes, and the stunning views of the city from its terraces.\n",
      "\n",
      "These three places offer a mix of cultural, historical, and architectural experiences that are essential to understanding Madrid's charm and significance.\n"
     ]
    }
   ],
   "execution_count": 51
  },
  {
   "metadata": {
    "ExecuteTime": {
     "end_time": "2025-10-08T08:25:42.766093Z",
     "start_time": "2025-10-08T08:25:38.695768Z"
    }
   },
   "cell_type": "code",
   "source": [
    "user_message = \"What are the top 3 most visited places in Barcelona?\"\n",
    "prompt = prompt_template.format_messages(question=user_message)\n",
    "\n",
    "response = model.invoke(prompt)\n",
    "response.pretty_print()"
   ],
   "id": "a1dcd070ea15838a",
   "outputs": [
    {
     "name": "stdout",
     "output_type": "stream",
     "text": [
      "==================================\u001B[1m Ai Message \u001B[0m==================================\n",
      "\n",
      "The top three most visited places in Barcelona, Spain, are:\n",
      "\n",
      "1. La Sagrada Familia: This iconic, unfinished Roman Catholic church, designed by Antoni Gaudí, is a UNESCO World Heritage Site and one of the most popular tourist attractions in the world.\n",
      "\n",
      "2. Park Güell: Another Gaudí masterpiece, this public park features colorful mosaics, unique architecture, and stunning views of the city. It is a popular spot for both tourists and locals.\n",
      "\n",
      "3. Las Ramblas: This famous boulevard is a major tourist attraction, known for its vibrant atmosphere, street artists, and a wide variety of shops, restaurants, and cafes. It is a popular spot for walking, people-watching, and enjoying the city's lively atmosphere.\n"
     ]
    }
   ],
   "execution_count": 52
  }
 ],
 "metadata": {
  "kernelspec": {
   "display_name": "Python 3",
   "language": "python",
   "name": "python3"
  },
  "language_info": {
   "codemirror_mode": {
    "name": "ipython",
    "version": 2
   },
   "file_extension": ".py",
   "mimetype": "text/x-python",
   "name": "python",
   "nbconvert_exporter": "python",
   "pygments_lexer": "ipython2",
   "version": "2.7.6"
  }
 },
 "nbformat": 4,
 "nbformat_minor": 5
}
